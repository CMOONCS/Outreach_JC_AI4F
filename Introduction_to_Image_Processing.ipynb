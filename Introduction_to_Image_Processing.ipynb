{
  "cells": [
    {
      "cell_type": "markdown",
      "metadata": {
        "id": "view-in-github",
        "colab_type": "text"
      },
      "source": [
        "<a href=\"https://colab.research.google.com/github/CMOONCS/Outreach_JC_AI4F/blob/main/Introduction_to_Image_Processing.ipynb\" target=\"_parent\"><img src=\"https://colab.research.google.com/assets/colab-badge.svg\" alt=\"Open In Colab\"/></a>"
      ]
    },
    {
      "cell_type": "code",
      "execution_count": null,
      "metadata": {
        "id": "IMeLPIWLHywW"
      },
      "outputs": [],
      "source": [
        "#@title Your Title Here\n",
        "from IPython.display import HTML, Audio\n",
        "from google.colab.output import eval_js\n",
        "from base64 import b64decode\n",
        "import numpy as np\n",
        "import io\n",
        "from PIL import Image\n",
        "\n",
        "VIDEO_HTML = \"\"\"\n",
        "<video autoplay\n",
        " width=%d height=%d style='cursor: pointer;'></video>\n",
        "<script>\n",
        "\n",
        "var video = document.querySelector('video')\n",
        "\n",
        "navigator.mediaDevices.getUserMedia({ video: true })\n",
        "  .then(stream=> video.srcObject = stream)\n",
        "\n",
        "var data = new Promise(resolve=>{\n",
        "  video.onclick = ()=>{\n",
        "    var canvas = document.createElement('canvas')\n",
        "    var [w,h] = [video.offsetWidth, video.offsetHeight]\n",
        "    canvas.width = w\n",
        "    canvas.height = h\n",
        "    canvas.getContext('2d')\n",
        "          .drawImage(video, 0, 0, w, h)\n",
        "    video.srcObject.getVideoTracks()[0].stop()\n",
        "    video.replaceWith(canvas)\n",
        "    resolve(canvas.toDataURL('image/jpeg', %f))\n",
        "  }\n",
        "})\n",
        "</script>\n",
        "\"\"\"\n",
        "def take_photo(filename='photo.jpg', quality=0.8, size=(800,600)):\n",
        "  display(HTML(VIDEO_HTML % (size[0],size[1],quality)))\n",
        "  data = eval_js(\"data\")\n",
        "  binary = b64decode(data.split(',')[1])\n",
        "  f = io.BytesIO(binary)\n",
        "  return np.asarray(Image.open(f))\n"
      ]
    },
    {
      "cell_type": "code",
      "execution_count": null,
      "metadata": {
        "id": "i07VNTxjLQjB"
      },
      "outputs": [],
      "source": [
        "#@title Take Your photo\n",
        "img = take_photo()"
      ]
    },
    {
      "cell_type": "code",
      "execution_count": 4,
      "metadata": {
        "id": "YtJB9Fs8LSDq",
        "colab": {
          "base_uri": "https://localhost:8080/",
          "height": 35
        },
        "outputId": "62cd6399-8cfe-4011-cf1e-a6d6031eddc4"
      },
      "outputs": [
        {
          "output_type": "execute_result",
          "data": {
            "text/plain": [
              "'import matplotlib.pyplot as plt\\n\\nplt.figure(figsize=(10,10))\\nplt.imshow(img)\\nplt.show()'"
            ],
            "application/vnd.google.colaboratory.intrinsic+json": {
              "type": "string"
            }
          },
          "metadata": {},
          "execution_count": 4
        }
      ],
      "source": [
        "#@title Show the Photo\n",
        "from google.colab.patches import cv2_imshow\n",
        "\"\"\"import matplotlib.pyplot as plt\n",
        "\n",
        "plt.figure(figsize=(10,10))\n",
        "plt.imshow(img)\n",
        "plt.show()\"\"\""
      ]
    },
    {
      "cell_type": "code",
      "source": [
        "#@title Show the Information\n",
        "img.shape"
      ],
      "metadata": {
        "id": "dup5l_1QtpwY"
      },
      "execution_count": null,
      "outputs": []
    },
    {
      "cell_type": "code",
      "source": [
        "#@title Resize the Image\n",
        "img_resize = cv2.resize(img,(400,300))\n",
        "cv2_imshow(img_resize)"
      ],
      "metadata": {
        "id": "4qXNzfMdt8_-"
      },
      "execution_count": null,
      "outputs": []
    },
    {
      "cell_type": "code",
      "source": [
        "#@title Image Pixels\n",
        "print(img_resize)"
      ],
      "metadata": {
        "id": "HJrDkJNwve2w"
      },
      "execution_count": null,
      "outputs": []
    },
    {
      "cell_type": "code",
      "source": [
        "#@title Change Image to GrayScale\n",
        "gray_img = cv2.cvtColor(img , cv2.COLOR_BGR2GRAY)\n",
        "cv2_imshow(gray_img)"
      ],
      "metadata": {
        "id": "LYcKkl8guq5T"
      },
      "execution_count": null,
      "outputs": []
    },
    {
      "cell_type": "markdown",
      "source": [
        "# Let's Try a Face Detection Model"
      ],
      "metadata": {
        "id": "G-sq4QeAuaKH"
      }
    },
    {
      "cell_type": "code",
      "source": [
        "#@title Load an Image\n",
        "import cv2\n",
        "image_path = 'people_faces.jpg'\n",
        "img1 = cv2.imread(image_path)\n",
        "gray_img1 = cv2.cvtColor(img1 , cv2.COLOR_BGR2GRAY)\n",
        "#cv2_imshow(gray_img)\n"
      ],
      "metadata": {
        "id": "gyG6fEppp3EG"
      },
      "execution_count": null,
      "outputs": []
    },
    {
      "cell_type": "code",
      "source": [
        "#@title Use a Face Detection Model\n",
        "face_detection = cv2.CascadeClassifier(cv2.data.haarcascades + 'haarcascade_frontalface_default.xml')\n",
        "detection = face_detection.detectMultiScale(gray_img1, scaleFactor = 1.7)"
      ],
      "metadata": {
        "id": "vV19Daztph9_"
      },
      "execution_count": 19,
      "outputs": []
    },
    {
      "cell_type": "code",
      "source": [
        "#@title Display the Detected Faces\n",
        "for (x , y , w , h) in detection:\n",
        "   cv2.rectangle(img1 , (x , y) , (x+w , y+h) , (0 , 255 , 0) , 5)\n",
        "cv2_imshow(img1)"
      ],
      "metadata": {
        "id": "D9nT_VPIpiA4"
      },
      "execution_count": 16,
      "outputs": []
    },
    {
      "cell_type": "code",
      "source": [],
      "metadata": {
        "id": "ejsoQJacpiFh"
      },
      "execution_count": null,
      "outputs": []
    }
  ],
  "metadata": {
    "colab": {
      "provenance": [],
      "authorship_tag": "ABX9TyN1Ma8v+0A7jiec46JpUhNj",
      "include_colab_link": true
    },
    "kernelspec": {
      "display_name": "Python 3",
      "name": "python3"
    },
    "language_info": {
      "name": "python"
    }
  },
  "nbformat": 4,
  "nbformat_minor": 0
}